{
 "cells": [
  {
   "cell_type": "markdown",
   "metadata": {},
   "source": [
    "Import library\n"
   ]
  },
  {
   "cell_type": "code",
   "execution_count": 1,
   "metadata": {},
   "outputs": [],
   "source": [
    "import pandas as pd\n",
    "import matplotlib.pyplot as plt\n",
    "import seaborn as sns"
   ]
  },
  {
   "cell_type": "markdown",
   "metadata": {},
   "source": [
    "Load data dengan encoding latin1\n"
   ]
  },
  {
   "cell_type": "code",
   "execution_count": 2,
   "metadata": {},
   "outputs": [],
   "source": [
    "data = pd.read_csv('data.csv', encoding='latin1')"
   ]
  },
  {
   "cell_type": "markdown",
   "metadata": {},
   "source": [
    "Melihat 5 baris pertama pada data\n"
   ]
  },
  {
   "cell_type": "code",
   "execution_count": 3,
   "metadata": {},
   "outputs": [
    {
     "name": "stdout",
     "output_type": "stream",
     "text": [
      "  InvoiceNo StockCode                          Description  Quantity  \\\n",
      "0    536365    85123A   WHITE HANGING HEART T-LIGHT HOLDER         6   \n",
      "1    536365     71053                  WHITE METAL LANTERN         6   \n",
      "2    536365    84406B       CREAM CUPID HEARTS COAT HANGER         8   \n",
      "3    536365    84029G  KNITTED UNION FLAG HOT WATER BOTTLE         6   \n",
      "4    536365    84029E       RED WOOLLY HOTTIE WHITE HEART.         6   \n",
      "\n",
      "      InvoiceDate  UnitPrice  CustomerID         Country  \n",
      "0  12/1/2010 8:26       2.55     17850.0  United Kingdom  \n",
      "1  12/1/2010 8:26       3.39     17850.0  United Kingdom  \n",
      "2  12/1/2010 8:26       2.75     17850.0  United Kingdom  \n",
      "3  12/1/2010 8:26       3.39     17850.0  United Kingdom  \n",
      "4  12/1/2010 8:26       3.39     17850.0  United Kingdom  \n"
     ]
    }
   ],
   "source": [
    "print(data.head())"
   ]
  },
  {
   "cell_type": "markdown",
   "metadata": {},
   "source": [
    "Melihat ringkasan data\n"
   ]
  },
  {
   "cell_type": "code",
   "execution_count": 4,
   "metadata": {},
   "outputs": [
    {
     "name": "stdout",
     "output_type": "stream",
     "text": [
      "<class 'pandas.core.frame.DataFrame'>\n",
      "RangeIndex: 541909 entries, 0 to 541908\n",
      "Data columns (total 8 columns):\n",
      " #   Column       Non-Null Count   Dtype  \n",
      "---  ------       --------------   -----  \n",
      " 0   InvoiceNo    541909 non-null  object \n",
      " 1   StockCode    541909 non-null  object \n",
      " 2   Description  540455 non-null  object \n",
      " 3   Quantity     541909 non-null  int64  \n",
      " 4   InvoiceDate  541909 non-null  object \n",
      " 5   UnitPrice    541909 non-null  float64\n",
      " 6   CustomerID   406829 non-null  float64\n",
      " 7   Country      541909 non-null  object \n",
      "dtypes: float64(2), int64(1), object(5)\n",
      "memory usage: 33.1+ MB\n",
      "None\n"
     ]
    }
   ],
   "source": [
    "print(data.info())"
   ]
  },
  {
   "cell_type": "markdown",
   "metadata": {},
   "source": [
    "Mengecek Missing Value\n"
   ]
  },
  {
   "cell_type": "code",
   "execution_count": 5,
   "metadata": {},
   "outputs": [
    {
     "name": "stdout",
     "output_type": "stream",
     "text": [
      "InvoiceNo           0\n",
      "StockCode           0\n",
      "Description      1454\n",
      "Quantity            0\n",
      "InvoiceDate         0\n",
      "UnitPrice           0\n",
      "CustomerID     135080\n",
      "Country             0\n",
      "dtype: int64\n"
     ]
    }
   ],
   "source": [
    "print(data.isnull().sum())"
   ]
  },
  {
   "cell_type": "markdown",
   "metadata": {},
   "source": [
    "Menampilkan baris yang memiliki missing value\n"
   ]
  },
  {
   "cell_type": "code",
   "execution_count": 6,
   "metadata": {},
   "outputs": [
    {
     "name": "stdout",
     "output_type": "stream",
     "text": [
      "     InvoiceNo StockCode                      Description  Quantity  \\\n",
      "622     536414     22139                              NaN        56   \n",
      "1443    536544     21773  DECORATIVE ROSE BATHROOM BOTTLE         1   \n",
      "1444    536544     21774  DECORATIVE CATS BATHROOM BOTTLE         2   \n",
      "1445    536544     21786               POLKADOT RAIN HAT          4   \n",
      "1446    536544     21787            RAIN PONCHO RETROSPOT         2   \n",
      "\n",
      "          InvoiceDate  UnitPrice  CustomerID         Country  \n",
      "622   12/1/2010 11:52       0.00         NaN  United Kingdom  \n",
      "1443  12/1/2010 14:32       2.51         NaN  United Kingdom  \n",
      "1444  12/1/2010 14:32       2.51         NaN  United Kingdom  \n",
      "1445  12/1/2010 14:32       0.85         NaN  United Kingdom  \n",
      "1446  12/1/2010 14:32       1.66         NaN  United Kingdom  \n"
     ]
    }
   ],
   "source": [
    "missing_data = data[data.isnull().any(axis=1)]\n",
    "print(missing_data.head())"
   ]
  },
  {
   "cell_type": "markdown",
   "metadata": {},
   "source": [
    "Mengecek nilai duplikat\n"
   ]
  },
  {
   "cell_type": "code",
   "execution_count": 7,
   "metadata": {},
   "outputs": [
    {
     "name": "stdout",
     "output_type": "stream",
     "text": [
      "Jumlah duplikat :5268\n",
      "    InvoiceNo StockCode                        Description  Quantity  \\\n",
      "517    536409     21866        UNION JACK FLAG LUGGAGE TAG         1   \n",
      "527    536409     22866      HAND WARMER SCOTTY DOG DESIGN         1   \n",
      "537    536409     22900    SET 2 TEA TOWELS I LOVE LONDON          1   \n",
      "539    536409     22111       SCOTTIE DOG HOT WATER BOTTLE         1   \n",
      "555    536412     22327  ROUND SNACK BOXES SET OF 4 SKULLS         1   \n",
      "\n",
      "         InvoiceDate  UnitPrice  CustomerID         Country  \n",
      "517  12/1/2010 11:45       1.25     17908.0  United Kingdom  \n",
      "527  12/1/2010 11:45       2.10     17908.0  United Kingdom  \n",
      "537  12/1/2010 11:45       2.95     17908.0  United Kingdom  \n",
      "539  12/1/2010 11:45       4.95     17908.0  United Kingdom  \n",
      "555  12/1/2010 11:49       2.95     17920.0  United Kingdom  \n"
     ]
    }
   ],
   "source": [
    "duplikat = data.duplicated().sum()\n",
    "print(f'Jumlah duplikat :{duplikat}')\n",
    "\n",
    "# menampilkan baris duplikat (jika ada)\n",
    "if(duplikat > 0):\n",
    "    print(data[data.duplicated()].head())"
   ]
  },
  {
   "cell_type": "markdown",
   "metadata": {},
   "source": [
    "Mengecek nilai negatif\n"
   ]
  },
  {
   "cell_type": "code",
   "execution_count": 10,
   "metadata": {},
   "outputs": [
    {
     "name": "stdout",
     "output_type": "stream",
     "text": [
      "Jumlah transaksi dengan quantity negatif :        InvoiceNo StockCode                       Description  Quantity  \\\n",
      "141      C536379         D                          Discount        -1   \n",
      "154      C536383    35004C   SET OF 3 COLOURED  FLYING DUCKS        -1   \n",
      "235      C536391     22556    PLASTERS IN TIN CIRCUS PARADE        -12   \n",
      "236      C536391     21984  PACK OF 12 PINK PAISLEY TISSUES        -24   \n",
      "237      C536391     21983  PACK OF 12 BLUE PAISLEY TISSUES        -24   \n",
      "...          ...       ...                               ...       ...   \n",
      "540449   C581490     23144   ZINC T-LIGHT HOLDER STARS SMALL       -11   \n",
      "541541   C581499         M                            Manual        -1   \n",
      "541715   C581568     21258        VICTORIAN SEWING BOX LARGE        -5   \n",
      "541716   C581569     84978  HANGING HEART JAR T-LIGHT HOLDER        -1   \n",
      "541717   C581569     20979     36 PENCILS TUBE RED RETROSPOT        -5   \n",
      "\n",
      "            InvoiceDate  UnitPrice  CustomerID         Country  \n",
      "141      12/1/2010 9:41      27.50     14527.0  United Kingdom  \n",
      "154      12/1/2010 9:49       4.65     15311.0  United Kingdom  \n",
      "235     12/1/2010 10:24       1.65     17548.0  United Kingdom  \n",
      "236     12/1/2010 10:24       0.29     17548.0  United Kingdom  \n",
      "237     12/1/2010 10:24       0.29     17548.0  United Kingdom  \n",
      "...                 ...        ...         ...             ...  \n",
      "540449   12/9/2011 9:57       0.83     14397.0  United Kingdom  \n",
      "541541  12/9/2011 10:28     224.69     15498.0  United Kingdom  \n",
      "541715  12/9/2011 11:57      10.95     15311.0  United Kingdom  \n",
      "541716  12/9/2011 11:58       1.25     17315.0  United Kingdom  \n",
      "541717  12/9/2011 11:58       1.25     17315.0  United Kingdom  \n",
      "\n",
      "[10624 rows x 8 columns]\n",
      "    InvoiceNo StockCode                       Description  Quantity  \\\n",
      "141   C536379         D                          Discount        -1   \n",
      "154   C536383    35004C   SET OF 3 COLOURED  FLYING DUCKS        -1   \n",
      "235   C536391     22556    PLASTERS IN TIN CIRCUS PARADE        -12   \n",
      "236   C536391     21984  PACK OF 12 PINK PAISLEY TISSUES        -24   \n",
      "237   C536391     21983  PACK OF 12 BLUE PAISLEY TISSUES        -24   \n",
      "\n",
      "         InvoiceDate  UnitPrice  CustomerID         Country  \n",
      "141   12/1/2010 9:41      27.50     14527.0  United Kingdom  \n",
      "154   12/1/2010 9:49       4.65     15311.0  United Kingdom  \n",
      "235  12/1/2010 10:24       1.65     17548.0  United Kingdom  \n",
      "236  12/1/2010 10:24       0.29     17548.0  United Kingdom  \n",
      "237  12/1/2010 10:24       0.29     17548.0  United Kingdom  \n",
      "Jumlah transaksi dengan unit price <= 0 :        InvoiceNo StockCode                   Description  Quantity  \\\n",
      "622       536414     22139                           NaN        56   \n",
      "1970      536545     21134                           NaN         1   \n",
      "1971      536546     22145                           NaN         1   \n",
      "1972      536547     37509                           NaN         1   \n",
      "1987      536549    85226A                           NaN         1   \n",
      "...          ...       ...                           ...       ...   \n",
      "536981    581234     72817                           NaN        27   \n",
      "538504    581406    46000M  POLYESTER FILLER PAD 45x45cm       240   \n",
      "538505    581406    46000S  POLYESTER FILLER PAD 40x40cm       300   \n",
      "538554    581408     85175                           NaN        20   \n",
      "538919    581422     23169                       smashed      -235   \n",
      "\n",
      "            InvoiceDate  UnitPrice  CustomerID         Country  \n",
      "622     12/1/2010 11:52        0.0         NaN  United Kingdom  \n",
      "1970    12/1/2010 14:32        0.0         NaN  United Kingdom  \n",
      "1971    12/1/2010 14:33        0.0         NaN  United Kingdom  \n",
      "1972    12/1/2010 14:33        0.0         NaN  United Kingdom  \n",
      "1987    12/1/2010 14:34        0.0         NaN  United Kingdom  \n",
      "...                 ...        ...         ...             ...  \n",
      "536981  12/8/2011 10:33        0.0         NaN  United Kingdom  \n",
      "538504  12/8/2011 13:58        0.0         NaN  United Kingdom  \n",
      "538505  12/8/2011 13:58        0.0         NaN  United Kingdom  \n",
      "538554  12/8/2011 14:06        0.0         NaN  United Kingdom  \n",
      "538919  12/8/2011 15:24        0.0         NaN  United Kingdom  \n",
      "\n",
      "[2517 rows x 8 columns]\n",
      "     InvoiceNo StockCode Description  Quantity      InvoiceDate  UnitPrice  \\\n",
      "622     536414     22139         NaN        56  12/1/2010 11:52        0.0   \n",
      "1970    536545     21134         NaN         1  12/1/2010 14:32        0.0   \n",
      "1971    536546     22145         NaN         1  12/1/2010 14:33        0.0   \n",
      "1972    536547     37509         NaN         1  12/1/2010 14:33        0.0   \n",
      "1987    536549    85226A         NaN         1  12/1/2010 14:34        0.0   \n",
      "\n",
      "      CustomerID         Country  \n",
      "622          NaN  United Kingdom  \n",
      "1970         NaN  United Kingdom  \n",
      "1971         NaN  United Kingdom  \n",
      "1972         NaN  United Kingdom  \n",
      "1987         NaN  United Kingdom  \n"
     ]
    }
   ],
   "source": [
    "# mengecek quantitiy negatif value\n",
    "quantity_negative = data[data['Quantity'] < 0]\n",
    "print(f'Jumlah transaksi dengan quantity negatif : {quantity_negative}')\n",
    "print(quantity_negative.head())\n",
    "\n",
    "# mengecek unit price negatif atau nol\n",
    "unitprice_salah = data[data['UnitPrice'] <= 0]\n",
    "print(f'Jumlah transaksi dengan unit price <= 0 : {unitprice_salah}')\n",
    "print(unitprice_salah.head())"
   ]
  },
  {
   "cell_type": "markdown",
   "metadata": {},
   "source": [
    "Cek inkonsistensi data\n"
   ]
  },
  {
   "cell_type": "code",
   "execution_count": null,
   "metadata": {},
   "outputs": [],
   "source": [
    "# mengecek apakah ada transaksi yang Quantity > 0 tetapi deskripsi kosong\n",
    "deskripsi_kosong = data[(data['Description'].isnull()) & (data['Quantity']>0)]\n",
    "print(f'Jumlah transaksi dengan Deskripsi kosong tetapi Quantity > 0 :{deskripsi_kosong}')\n",
    "print(deskripsi_kosong.head())"
   ]
  }
 ],
 "metadata": {
  "kernelspec": {
   "display_name": "Python 3",
   "language": "python",
   "name": "python3"
  },
  "language_info": {
   "codemirror_mode": {
    "name": "ipython",
    "version": 3
   },
   "file_extension": ".py",
   "mimetype": "text/x-python",
   "name": "python",
   "nbconvert_exporter": "python",
   "pygments_lexer": "ipython3",
   "version": "3.12.4"
  }
 },
 "nbformat": 4,
 "nbformat_minor": 2
}
