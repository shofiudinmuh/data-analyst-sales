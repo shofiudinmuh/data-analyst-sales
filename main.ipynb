{
 "cells": [
  {
   "cell_type": "markdown",
   "metadata": {},
   "source": [
    "Import library\n"
   ]
  },
  {
   "cell_type": "code",
   "execution_count": 1,
   "metadata": {},
   "outputs": [],
   "source": [
    "import pandas as pd\n",
    "import matplotlib.pyplot as plt\n",
    "import seaborn as sns"
   ]
  },
  {
   "cell_type": "markdown",
   "metadata": {},
   "source": [
    "Load data dengan encoding latin1\n"
   ]
  },
  {
   "cell_type": "code",
   "execution_count": 2,
   "metadata": {},
   "outputs": [],
   "source": [
    "data = pd.read_csv('data.csv', encoding='latin1')"
   ]
  },
  {
   "cell_type": "markdown",
   "metadata": {},
   "source": [
    "Melihat 5 baris pertama pada data\n"
   ]
  },
  {
   "cell_type": "code",
   "execution_count": 3,
   "metadata": {},
   "outputs": [
    {
     "name": "stdout",
     "output_type": "stream",
     "text": [
      "  InvoiceNo StockCode                          Description  Quantity  \\\n",
      "0    536365    85123A   WHITE HANGING HEART T-LIGHT HOLDER         6   \n",
      "1    536365     71053                  WHITE METAL LANTERN         6   \n",
      "2    536365    84406B       CREAM CUPID HEARTS COAT HANGER         8   \n",
      "3    536365    84029G  KNITTED UNION FLAG HOT WATER BOTTLE         6   \n",
      "4    536365    84029E       RED WOOLLY HOTTIE WHITE HEART.         6   \n",
      "\n",
      "      InvoiceDate  UnitPrice  CustomerID         Country  \n",
      "0  12/1/2010 8:26       2.55     17850.0  United Kingdom  \n",
      "1  12/1/2010 8:26       3.39     17850.0  United Kingdom  \n",
      "2  12/1/2010 8:26       2.75     17850.0  United Kingdom  \n",
      "3  12/1/2010 8:26       3.39     17850.0  United Kingdom  \n",
      "4  12/1/2010 8:26       3.39     17850.0  United Kingdom  \n"
     ]
    }
   ],
   "source": [
    "print(data.head())"
   ]
  },
  {
   "cell_type": "markdown",
   "metadata": {},
   "source": [
    "Melihat ringkasan data\n"
   ]
  },
  {
   "cell_type": "code",
   "execution_count": 4,
   "metadata": {},
   "outputs": [
    {
     "name": "stdout",
     "output_type": "stream",
     "text": [
      "<class 'pandas.core.frame.DataFrame'>\n",
      "RangeIndex: 541909 entries, 0 to 541908\n",
      "Data columns (total 8 columns):\n",
      " #   Column       Non-Null Count   Dtype  \n",
      "---  ------       --------------   -----  \n",
      " 0   InvoiceNo    541909 non-null  object \n",
      " 1   StockCode    541909 non-null  object \n",
      " 2   Description  540455 non-null  object \n",
      " 3   Quantity     541909 non-null  int64  \n",
      " 4   InvoiceDate  541909 non-null  object \n",
      " 5   UnitPrice    541909 non-null  float64\n",
      " 6   CustomerID   406829 non-null  float64\n",
      " 7   Country      541909 non-null  object \n",
      "dtypes: float64(2), int64(1), object(5)\n",
      "memory usage: 33.1+ MB\n",
      "None\n"
     ]
    }
   ],
   "source": [
    "print(data.info())"
   ]
  },
  {
   "cell_type": "markdown",
   "metadata": {},
   "source": [
    "Mengecek Missing Value\n"
   ]
  },
  {
   "cell_type": "code",
   "execution_count": 5,
   "metadata": {},
   "outputs": [
    {
     "name": "stdout",
     "output_type": "stream",
     "text": [
      "InvoiceNo           0\n",
      "StockCode           0\n",
      "Description      1454\n",
      "Quantity            0\n",
      "InvoiceDate         0\n",
      "UnitPrice           0\n",
      "CustomerID     135080\n",
      "Country             0\n",
      "dtype: int64\n"
     ]
    }
   ],
   "source": [
    "print(data.isnull().sum())"
   ]
  },
  {
   "cell_type": "markdown",
   "metadata": {},
   "source": [
    "Menampilkan baris yang memiliki missing value\n"
   ]
  },
  {
   "cell_type": "code",
   "execution_count": 6,
   "metadata": {},
   "outputs": [
    {
     "name": "stdout",
     "output_type": "stream",
     "text": [
      "     InvoiceNo StockCode                      Description  Quantity  \\\n",
      "622     536414     22139                              NaN        56   \n",
      "1443    536544     21773  DECORATIVE ROSE BATHROOM BOTTLE         1   \n",
      "1444    536544     21774  DECORATIVE CATS BATHROOM BOTTLE         2   \n",
      "1445    536544     21786               POLKADOT RAIN HAT          4   \n",
      "1446    536544     21787            RAIN PONCHO RETROSPOT         2   \n",
      "\n",
      "          InvoiceDate  UnitPrice  CustomerID         Country  \n",
      "622   12/1/2010 11:52       0.00         NaN  United Kingdom  \n",
      "1443  12/1/2010 14:32       2.51         NaN  United Kingdom  \n",
      "1444  12/1/2010 14:32       2.51         NaN  United Kingdom  \n",
      "1445  12/1/2010 14:32       0.85         NaN  United Kingdom  \n",
      "1446  12/1/2010 14:32       1.66         NaN  United Kingdom  \n"
     ]
    }
   ],
   "source": [
    "missing_data = data[data.isnull().any(axis=1)]\n",
    "print(missing_data.head())"
   ]
  },
  {
   "cell_type": "markdown",
   "metadata": {},
   "source": [
    "Mengecek nilai duplikat\n"
   ]
  },
  {
   "cell_type": "code",
   "execution_count": 7,
   "metadata": {},
   "outputs": [
    {
     "name": "stdout",
     "output_type": "stream",
     "text": [
      "Jumlah duplikat :5268\n",
      "    InvoiceNo StockCode                        Description  Quantity  \\\n",
      "517    536409     21866        UNION JACK FLAG LUGGAGE TAG         1   \n",
      "527    536409     22866      HAND WARMER SCOTTY DOG DESIGN         1   \n",
      "537    536409     22900    SET 2 TEA TOWELS I LOVE LONDON          1   \n",
      "539    536409     22111       SCOTTIE DOG HOT WATER BOTTLE         1   \n",
      "555    536412     22327  ROUND SNACK BOXES SET OF 4 SKULLS         1   \n",
      "\n",
      "         InvoiceDate  UnitPrice  CustomerID         Country  \n",
      "517  12/1/2010 11:45       1.25     17908.0  United Kingdom  \n",
      "527  12/1/2010 11:45       2.10     17908.0  United Kingdom  \n",
      "537  12/1/2010 11:45       2.95     17908.0  United Kingdom  \n",
      "539  12/1/2010 11:45       4.95     17908.0  United Kingdom  \n",
      "555  12/1/2010 11:49       2.95     17920.0  United Kingdom  \n"
     ]
    }
   ],
   "source": [
    "duplikat = data.duplicated().sum()\n",
    "print(f'Jumlah duplikat :{duplikat}')\n",
    "\n",
    "# menampilkan baris duplikat (jika ada)\n",
    "if(duplikat > 0):\n",
    "    print(data[data.duplicated()].head())"
   ]
  },
  {
   "cell_type": "markdown",
   "metadata": {},
   "source": [
    "Mengecek nilai negatif\n"
   ]
  },
  {
   "cell_type": "code",
   "execution_count": 10,
   "metadata": {},
   "outputs": [
    {
     "name": "stdout",
     "output_type": "stream",
     "text": [
      "Jumlah transaksi dengan quantity negatif :        InvoiceNo StockCode                       Description  Quantity  \\\n",
      "141      C536379         D                          Discount        -1   \n",
      "154      C536383    35004C   SET OF 3 COLOURED  FLYING DUCKS        -1   \n",
      "235      C536391     22556    PLASTERS IN TIN CIRCUS PARADE        -12   \n",
      "236      C536391     21984  PACK OF 12 PINK PAISLEY TISSUES        -24   \n",
      "237      C536391     21983  PACK OF 12 BLUE PAISLEY TISSUES        -24   \n",
      "...          ...       ...                               ...       ...   \n",
      "540449   C581490     23144   ZINC T-LIGHT HOLDER STARS SMALL       -11   \n",
      "541541   C581499         M                            Manual        -1   \n",
      "541715   C581568     21258        VICTORIAN SEWING BOX LARGE        -5   \n",
      "541716   C581569     84978  HANGING HEART JAR T-LIGHT HOLDER        -1   \n",
      "541717   C581569     20979     36 PENCILS TUBE RED RETROSPOT        -5   \n",
      "\n",
      "            InvoiceDate  UnitPrice  CustomerID         Country  \n",
      "141      12/1/2010 9:41      27.50     14527.0  United Kingdom  \n",
      "154      12/1/2010 9:49       4.65     15311.0  United Kingdom  \n",
      "235     12/1/2010 10:24       1.65     17548.0  United Kingdom  \n",
      "236     12/1/2010 10:24       0.29     17548.0  United Kingdom  \n",
      "237     12/1/2010 10:24       0.29     17548.0  United Kingdom  \n",
      "...                 ...        ...         ...             ...  \n",
      "540449   12/9/2011 9:57       0.83     14397.0  United Kingdom  \n",
      "541541  12/9/2011 10:28     224.69     15498.0  United Kingdom  \n",
      "541715  12/9/2011 11:57      10.95     15311.0  United Kingdom  \n",
      "541716  12/9/2011 11:58       1.25     17315.0  United Kingdom  \n",
      "541717  12/9/2011 11:58       1.25     17315.0  United Kingdom  \n",
      "\n",
      "[10624 rows x 8 columns]\n",
      "    InvoiceNo StockCode                       Description  Quantity  \\\n",
      "141   C536379         D                          Discount        -1   \n",
      "154   C536383    35004C   SET OF 3 COLOURED  FLYING DUCKS        -1   \n",
      "235   C536391     22556    PLASTERS IN TIN CIRCUS PARADE        -12   \n",
      "236   C536391     21984  PACK OF 12 PINK PAISLEY TISSUES        -24   \n",
      "237   C536391     21983  PACK OF 12 BLUE PAISLEY TISSUES        -24   \n",
      "\n",
      "         InvoiceDate  UnitPrice  CustomerID         Country  \n",
      "141   12/1/2010 9:41      27.50     14527.0  United Kingdom  \n",
      "154   12/1/2010 9:49       4.65     15311.0  United Kingdom  \n",
      "235  12/1/2010 10:24       1.65     17548.0  United Kingdom  \n",
      "236  12/1/2010 10:24       0.29     17548.0  United Kingdom  \n",
      "237  12/1/2010 10:24       0.29     17548.0  United Kingdom  \n",
      "Jumlah transaksi dengan unit price <= 0 :        InvoiceNo StockCode                   Description  Quantity  \\\n",
      "622       536414     22139                           NaN        56   \n",
      "1970      536545     21134                           NaN         1   \n",
      "1971      536546     22145                           NaN         1   \n",
      "1972      536547     37509                           NaN         1   \n",
      "1987      536549    85226A                           NaN         1   \n",
      "...          ...       ...                           ...       ...   \n",
      "536981    581234     72817                           NaN        27   \n",
      "538504    581406    46000M  POLYESTER FILLER PAD 45x45cm       240   \n",
      "538505    581406    46000S  POLYESTER FILLER PAD 40x40cm       300   \n",
      "538554    581408     85175                           NaN        20   \n",
      "538919    581422     23169                       smashed      -235   \n",
      "\n",
      "            InvoiceDate  UnitPrice  CustomerID         Country  \n",
      "622     12/1/2010 11:52        0.0         NaN  United Kingdom  \n",
      "1970    12/1/2010 14:32        0.0         NaN  United Kingdom  \n",
      "1971    12/1/2010 14:33        0.0         NaN  United Kingdom  \n",
      "1972    12/1/2010 14:33        0.0         NaN  United Kingdom  \n",
      "1987    12/1/2010 14:34        0.0         NaN  United Kingdom  \n",
      "...                 ...        ...         ...             ...  \n",
      "536981  12/8/2011 10:33        0.0         NaN  United Kingdom  \n",
      "538504  12/8/2011 13:58        0.0         NaN  United Kingdom  \n",
      "538505  12/8/2011 13:58        0.0         NaN  United Kingdom  \n",
      "538554  12/8/2011 14:06        0.0         NaN  United Kingdom  \n",
      "538919  12/8/2011 15:24        0.0         NaN  United Kingdom  \n",
      "\n",
      "[2517 rows x 8 columns]\n",
      "     InvoiceNo StockCode Description  Quantity      InvoiceDate  UnitPrice  \\\n",
      "622     536414     22139         NaN        56  12/1/2010 11:52        0.0   \n",
      "1970    536545     21134         NaN         1  12/1/2010 14:32        0.0   \n",
      "1971    536546     22145         NaN         1  12/1/2010 14:33        0.0   \n",
      "1972    536547     37509         NaN         1  12/1/2010 14:33        0.0   \n",
      "1987    536549    85226A         NaN         1  12/1/2010 14:34        0.0   \n",
      "\n",
      "      CustomerID         Country  \n",
      "622          NaN  United Kingdom  \n",
      "1970         NaN  United Kingdom  \n",
      "1971         NaN  United Kingdom  \n",
      "1972         NaN  United Kingdom  \n",
      "1987         NaN  United Kingdom  \n"
     ]
    }
   ],
   "source": [
    "# mengecek quantitiy negatif value\n",
    "quantity_negative = data[data['Quantity'] < 0]\n",
    "print(f'Jumlah transaksi dengan quantity negatif : {quantity_negative}')\n",
    "print(quantity_negative.head())\n",
    "\n",
    "# mengecek unit price negatif atau nol\n",
    "unitprice_salah = data[data['UnitPrice'] <= 0]\n",
    "print(f'Jumlah transaksi dengan unit price <= 0 : {unitprice_salah}')\n",
    "print(unitprice_salah.head())"
   ]
  },
  {
   "cell_type": "markdown",
   "metadata": {},
   "source": [
    "Cek inkonsistensi data\n"
   ]
  },
  {
   "cell_type": "code",
   "execution_count": 11,
   "metadata": {},
   "outputs": [
    {
     "name": "stdout",
     "output_type": "stream",
     "text": [
      "Jumlah transaksi dengan Deskripsi kosong tetapi Quantity > 0 :       InvoiceNo StockCode Description  Quantity      InvoiceDate  UnitPrice  \\\n",
      "622       536414     22139         NaN        56  12/1/2010 11:52        0.0   \n",
      "1970      536545     21134         NaN         1  12/1/2010 14:32        0.0   \n",
      "1971      536546     22145         NaN         1  12/1/2010 14:33        0.0   \n",
      "1972      536547     37509         NaN         1  12/1/2010 14:33        0.0   \n",
      "1987      536549    85226A         NaN         1  12/1/2010 14:34        0.0   \n",
      "...          ...       ...         ...       ...              ...        ...   \n",
      "533712    581103     22689         NaN         4  12/7/2011 11:58        0.0   \n",
      "535326    581203     23406         NaN        15  12/7/2011 18:31        0.0   \n",
      "535332    581209     21620         NaN         6  12/7/2011 18:35        0.0   \n",
      "536981    581234     72817         NaN        27  12/8/2011 10:33        0.0   \n",
      "538554    581408     85175         NaN        20  12/8/2011 14:06        0.0   \n",
      "\n",
      "        CustomerID         Country  \n",
      "622            NaN  United Kingdom  \n",
      "1970           NaN  United Kingdom  \n",
      "1971           NaN  United Kingdom  \n",
      "1972           NaN  United Kingdom  \n",
      "1987           NaN  United Kingdom  \n",
      "...            ...             ...  \n",
      "533712         NaN  United Kingdom  \n",
      "535326         NaN  United Kingdom  \n",
      "535332         NaN  United Kingdom  \n",
      "536981         NaN  United Kingdom  \n",
      "538554         NaN  United Kingdom  \n",
      "\n",
      "[592 rows x 8 columns]\n",
      "     InvoiceNo StockCode Description  Quantity      InvoiceDate  UnitPrice  \\\n",
      "622     536414     22139         NaN        56  12/1/2010 11:52        0.0   \n",
      "1970    536545     21134         NaN         1  12/1/2010 14:32        0.0   \n",
      "1971    536546     22145         NaN         1  12/1/2010 14:33        0.0   \n",
      "1972    536547     37509         NaN         1  12/1/2010 14:33        0.0   \n",
      "1987    536549    85226A         NaN         1  12/1/2010 14:34        0.0   \n",
      "\n",
      "      CustomerID         Country  \n",
      "622          NaN  United Kingdom  \n",
      "1970         NaN  United Kingdom  \n",
      "1971         NaN  United Kingdom  \n",
      "1972         NaN  United Kingdom  \n",
      "1987         NaN  United Kingdom  \n"
     ]
    }
   ],
   "source": [
    "# mengecek apakah ada transaksi yang Quantity > 0 tetapi deskripsi kosong\n",
    "deskripsi_kosong = data[(data['Description'].isnull()) & (data['Quantity']>0)]\n",
    "print(f'Jumlah transaksi dengan Deskripsi kosong tetapi Quantity > 0 :{deskripsi_kosong}')\n",
    "print(deskripsi_kosong.head())"
   ]
  },
  {
   "cell_type": "markdown",
   "metadata": {},
   "source": [
    "Memeriksa outlier sederhana\n"
   ]
  },
  {
   "cell_type": "code",
   "execution_count": 13,
   "metadata": {},
   "outputs": [
    {
     "name": "stdout",
     "output_type": "stream",
     "text": [
      "            Quantity      UnitPrice\n",
      "count  541909.000000  541909.000000\n",
      "mean        9.552250       4.611114\n",
      "std       218.081158      96.759853\n",
      "min    -80995.000000  -11062.060000\n",
      "25%         1.000000       1.250000\n",
      "50%         3.000000       2.080000\n",
      "75%        10.000000       4.130000\n",
      "max     80995.000000   38970.000000\n",
      "Jumlah transaksi dengan Quantity > 10.000 :        InvoiceNo StockCode                     Description  Quantity  \\\n",
      "61619     541431     23166  MEDIUM CERAMIC TOP STORAGE JAR     74215   \n",
      "502122    578841     84826  ASSTD DESIGN 3D PAPER STICKERS     12540   \n",
      "540421    581483     23843     PAPER CRAFT , LITTLE BIRDIE     80995   \n",
      "\n",
      "             InvoiceDate  UnitPrice  CustomerID         Country  \n",
      "61619    1/18/2011 10:01       1.04     12346.0  United Kingdom  \n",
      "502122  11/25/2011 15:57       0.00     13256.0  United Kingdom  \n",
      "540421    12/9/2011 9:15       2.08     16446.0  United Kingdom  \n",
      "       InvoiceNo StockCode                     Description  Quantity  \\\n",
      "61619     541431     23166  MEDIUM CERAMIC TOP STORAGE JAR     74215   \n",
      "502122    578841     84826  ASSTD DESIGN 3D PAPER STICKERS     12540   \n",
      "540421    581483     23843     PAPER CRAFT , LITTLE BIRDIE     80995   \n",
      "\n",
      "             InvoiceDate  UnitPrice  CustomerID         Country  \n",
      "61619    1/18/2011 10:01       1.04     12346.0  United Kingdom  \n",
      "502122  11/25/2011 15:57       0.00     13256.0  United Kingdom  \n",
      "540421    12/9/2011 9:15       2.08     16446.0  United Kingdom  \n",
      "Jumlah transaksi dengan unit price  > 1.000 :        InvoiceNo  StockCode     Description  Quantity      InvoiceDate  \\\n",
      "15016    C537630  AMAZONFEE      AMAZON FEE        -1  12/7/2010 15:04   \n",
      "15017     537632  AMAZONFEE      AMAZON FEE         1  12/7/2010 15:08   \n",
      "16232    C537644  AMAZONFEE      AMAZON FEE        -1  12/7/2010 15:34   \n",
      "16313    C537647  AMAZONFEE      AMAZON FEE        -1  12/7/2010 15:41   \n",
      "16356    C537651  AMAZONFEE      AMAZON FEE        -1  12/7/2010 15:49   \n",
      "...          ...        ...             ...       ...              ...   \n",
      "528788    580729        DOT  DOTCOM POSTAGE         1  12/5/2011 17:24   \n",
      "533491    581023        DOT  DOTCOM POSTAGE         1  12/7/2011 10:35   \n",
      "536834    581219        DOT  DOTCOM POSTAGE         1   12/8/2011 9:28   \n",
      "537254    581238        DOT  DOTCOM POSTAGE         1  12/8/2011 10:53   \n",
      "541540    581498        DOT  DOTCOM POSTAGE         1  12/9/2011 10:26   \n",
      "\n",
      "        UnitPrice  CustomerID         Country  \n",
      "15016    13541.33         NaN  United Kingdom  \n",
      "15017    13541.33         NaN  United Kingdom  \n",
      "16232    13474.79         NaN  United Kingdom  \n",
      "16313     5519.25         NaN  United Kingdom  \n",
      "16356    13541.33         NaN  United Kingdom  \n",
      "...           ...         ...             ...  \n",
      "528788    1172.10         NaN  United Kingdom  \n",
      "533491    1861.46         NaN  United Kingdom  \n",
      "536834    1008.96         NaN  United Kingdom  \n",
      "537254    1683.75         NaN  United Kingdom  \n",
      "541540    1714.17         NaN  United Kingdom  \n",
      "\n",
      "[120 rows x 8 columns]\n",
      "      InvoiceNo  StockCode Description  Quantity      InvoiceDate  UnitPrice  \\\n",
      "15016   C537630  AMAZONFEE  AMAZON FEE        -1  12/7/2010 15:04   13541.33   \n",
      "15017    537632  AMAZONFEE  AMAZON FEE         1  12/7/2010 15:08   13541.33   \n",
      "16232   C537644  AMAZONFEE  AMAZON FEE        -1  12/7/2010 15:34   13474.79   \n",
      "16313   C537647  AMAZONFEE  AMAZON FEE        -1  12/7/2010 15:41    5519.25   \n",
      "16356   C537651  AMAZONFEE  AMAZON FEE        -1  12/7/2010 15:49   13541.33   \n",
      "\n",
      "       CustomerID         Country  \n",
      "15016         NaN  United Kingdom  \n",
      "15017         NaN  United Kingdom  \n",
      "16232         NaN  United Kingdom  \n",
      "16313         NaN  United Kingdom  \n",
      "16356         NaN  United Kingdom  \n"
     ]
    }
   ],
   "source": [
    "# mengecek statisitk deskriptif Quantity dan UnitPrice\n",
    "print(data[['Quantity', 'UnitPrice']].describe())\n",
    "\n",
    "\n",
    "# menampilkan transaksi dengan Quantity sangat besar, misalnya di atas 10.000\n",
    "outlier_quantity = data[data['Quantity'] > 10000]\n",
    "print(f'Jumlah transaksi dengan Quantity > 10.000 : {outlier_quantity}')\n",
    "print(outlier_quantity.head())\n",
    "\n",
    "\n",
    "# menampilkan transaksi dengan UnitPrice sangat besar, misalnya di atas 1,000\n",
    "outlier_price = data[data['UnitPrice'] > 1000]\n",
    "print(f'Jumlah transaksi dengan unit price  > 1.000 : {outlier_price}')\n",
    "print(outlier_price.head())"
   ]
  },
  {
   "cell_type": "markdown",
   "metadata": {},
   "source": [
    "DATA CLEANING\n"
   ]
  },
  {
   "cell_type": "code",
   "execution_count": 14,
   "metadata": {},
   "outputs": [
    {
     "name": "stdout",
     "output_type": "stream",
     "text": [
      "<class 'pandas.core.frame.DataFrame'>\n",
      "Index: 397924 entries, 0 to 541908\n",
      "Data columns (total 8 columns):\n",
      " #   Column       Non-Null Count   Dtype         \n",
      "---  ------       --------------   -----         \n",
      " 0   InvoiceNo    397924 non-null  object        \n",
      " 1   StockCode    397924 non-null  object        \n",
      " 2   Description  397924 non-null  object        \n",
      " 3   Quantity     397924 non-null  int64         \n",
      " 4   InvoiceDate  397924 non-null  datetime64[ns]\n",
      " 5   UnitPrice    397924 non-null  float64       \n",
      " 6   CustomerID   397924 non-null  float64       \n",
      " 7   Country      397924 non-null  object        \n",
      "dtypes: datetime64[ns](1), float64(2), int64(1), object(4)\n",
      "memory usage: 27.3+ MB\n",
      "None\n"
     ]
    }
   ],
   "source": [
    "# menghapus baris dengan nilai null pada kolom CustomerID dan DEscription\n",
    "data_clean = data.dropna(subset=['CustomerID', 'Description'])\n",
    "\n",
    "# menghapus transaksi dengan Quantity Negatif (retur barang)\n",
    "data_clean = data_clean[data_clean['Quantity'] > 0]\n",
    "\n",
    "# Konversi kolom invoiceDate ke datetime\n",
    "data_clean['InvoiceDate'] = pd.to_datetime(data_clean['InvoiceDate'])\n",
    "\n",
    "# mengecek data setelah pembersihan\n",
    "print(data_clean.info())"
   ]
  },
  {
   "cell_type": "markdown",
   "metadata": {},
   "source": [
    "Buat fitur baru : Total Harga Per Transaksi\n"
   ]
  },
  {
   "cell_type": "code",
   "execution_count": 16,
   "metadata": {},
   "outputs": [
    {
     "name": "stdout",
     "output_type": "stream",
     "text": [
      "   Quantity  UnitPrice  TotalPrice\n",
      "0         6       2.55       15.30\n",
      "1         6       3.39       20.34\n",
      "2         8       2.75       22.00\n",
      "3         6       3.39       20.34\n",
      "4         6       3.39       20.34\n"
     ]
    }
   ],
   "source": [
    "data_clean['TotalPrice'] = data_clean['Quantity'] * data_clean['UnitPrice']\n",
    "\n",
    "# melihat hasil\n",
    "print(data_clean[['Quantity', 'UnitPrice', 'TotalPrice']].head())"
   ]
  },
  {
   "cell_type": "markdown",
   "metadata": {},
   "source": [
    "ANALISIS PENJUALAN\n"
   ]
  },
  {
   "cell_type": "markdown",
   "metadata": {},
   "source": [
    "Analisis Penjualan Keseluruhan\n"
   ]
  },
  {
   "cell_type": "code",
   "execution_count": null,
   "metadata": {},
   "outputs": [
    {
     "name": "stdout",
     "output_type": "stream",
     "text": [
      "Total Penjualan keseluruhan : 8911407.904\n"
     ]
    }
   ],
   "source": [
    "total_penjualan = data_clean['TotalPrice'].sum()\n",
    "print(f'Total Penjualan keseluruhan : {total_penjualan}')"
   ]
  },
  {
   "cell_type": "markdown",
   "metadata": {},
   "source": [
    "Penjualan berdasarkan negara\n"
   ]
  },
  {
   "cell_type": "code",
   "execution_count": 19,
   "metadata": {},
   "outputs": [
    {
     "name": "stdout",
     "output_type": "stream",
     "text": [
      "Country\n",
      "United Kingdom    7308391.554\n",
      "Netherlands        285446.340\n",
      "EIRE               265545.900\n",
      "Germany            228867.140\n",
      "France             209024.050\n",
      "Australia          138521.310\n",
      "Spain               61577.110\n",
      "Switzerland         56443.950\n",
      "Belgium             41196.340\n",
      "Sweden              38378.330\n",
      "Name: TotalPrice, dtype: float64\n"
     ]
    }
   ],
   "source": [
    "penjualan_negara = data_clean.groupby('Country')['TotalPrice'].sum().sort_values(ascending=False)\n",
    "\n",
    "print(penjualan_negara.head(10))"
   ]
  },
  {
   "cell_type": "markdown",
   "metadata": {},
   "source": [
    "Produk terlaris berdasarkan jumlah\n"
   ]
  },
  {
   "cell_type": "code",
   "execution_count": 20,
   "metadata": {},
   "outputs": [
    {
     "name": "stdout",
     "output_type": "stream",
     "text": [
      "Description\n",
      "PAPER CRAFT , LITTLE BIRDIE           80995\n",
      "MEDIUM CERAMIC TOP STORAGE JAR        77916\n",
      "WORLD WAR 2 GLIDERS ASSTD DESIGNS     54415\n",
      "JUMBO BAG RED RETROSPOT               46181\n",
      "WHITE HANGING HEART T-LIGHT HOLDER    36725\n",
      "ASSORTED COLOUR BIRD ORNAMENT         35362\n",
      "PACK OF 72 RETROSPOT CAKE CASES       33693\n",
      "POPCORN HOLDER                        30931\n",
      "RABBIT NIGHT LIGHT                    27202\n",
      "MINI PAINT SET VINTAGE                26076\n",
      "Name: Quantity, dtype: int64\n"
     ]
    }
   ],
   "source": [
    "produk_terlaris = data_clean.groupby('Description')['Quantity'].sum().sort_values(ascending=False)\n",
    "\n",
    "print(produk_terlaris.head(10))"
   ]
  },
  {
   "cell_type": "markdown",
   "metadata": {},
   "source": [
    "Tren penjualan per bulan\n"
   ]
  },
  {
   "cell_type": "code",
   "execution_count": 21,
   "metadata": {},
   "outputs": [
    {
     "name": "stdout",
     "output_type": "stream",
     "text": [
      "Month\n",
      "1      569445.040\n",
      "2      447137.350\n",
      "3      595500.760\n",
      "4      469200.361\n",
      "5      678594.560\n",
      "6      661213.690\n",
      "7      600091.011\n",
      "8      645343.900\n",
      "9      952838.382\n",
      "10    1039318.790\n",
      "11    1161817.380\n",
      "12    1090906.680\n",
      "Name: TotalPrice, dtype: float64\n"
     ]
    }
   ],
   "source": [
    "data_clean['Month'] = data_clean['InvoiceDate'].dt.month\n",
    "penjualan_bulanan = data_clean.groupby('Month')['TotalPrice'].sum()\n",
    "\n",
    "print(penjualan_bulanan)"
   ]
  }
 ],
 "metadata": {
  "kernelspec": {
   "display_name": "Python 3",
   "language": "python",
   "name": "python3"
  },
  "language_info": {
   "codemirror_mode": {
    "name": "ipython",
    "version": 3
   },
   "file_extension": ".py",
   "mimetype": "text/x-python",
   "name": "python",
   "nbconvert_exporter": "python",
   "pygments_lexer": "ipython3",
   "version": "3.12.4"
  }
 },
 "nbformat": 4,
 "nbformat_minor": 2
}
